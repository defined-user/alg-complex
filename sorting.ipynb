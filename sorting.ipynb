{
 "cells": [
  {
   "cell_type": "code",
   "execution_count": 8,
   "metadata": {
    "collapsed": true
   },
   "outputs": [],
   "source": [
    "# Import required packages\n",
    "import random\n",
    "import time\n",
    "from typing import Optional, List, Iterator, Tuple\n",
    "\n",
    "import matplotlib.pyplot as plt\n",
    "import numpy as np"
   ]
  },
  {
   "cell_type": "code",
   "execution_count": 9,
   "outputs": [],
   "source": [
    "def generate_array(length: int, min_value: Optional[int] = None, max_value: Optional[int] = None) -> List[int]:\n",
    "    if min_value is not None and max_value is not None:\n",
    "        assert min_value <= max_value, \"Min can't be greater than max\"\n",
    "\n",
    "    if min_value is None:\n",
    "        min_value = -(length ** 2)\n",
    "\n",
    "    if max_value is None:\n",
    "        max_value = length ** 2\n",
    "\n",
    "    return [random.randint(a=min_value, b=max_value) for _ in range(length)]"
   ],
   "metadata": {
    "collapsed": false,
    "pycharm": {
     "name": "#%%\n"
    }
   }
  },
  {
   "cell_type": "code",
   "execution_count": 10,
   "outputs": [],
   "source": [
    "def heapify(sequence: List[int], length: int, current_index: int) -> None:\n",
    "    # Find largest among root and children\n",
    "    largest = current_index\n",
    "    left_child = 2 * current_index + 1\n",
    "    right_child = 2 * current_index + 2\n",
    "\n",
    "    if left_child < length and sequence[current_index] < sequence[left_child]:\n",
    "        largest = left_child\n",
    "    if right_child < length and sequence[largest] < sequence[right_child]:\n",
    "        largest = right_child\n",
    "\n",
    "    # If root is not largest, swap with largest and continue heapifying\n",
    "    if largest != current_index:\n",
    "        sequence[current_index], sequence[largest] = sequence[largest], sequence[current_index]\n",
    "        heapify(sequence=sequence, length=length, current_index=largest)\n",
    "\n",
    "\n",
    "def heap_sort(sequence: List[int]) -> None:\n",
    "    # Build max heap\n",
    "    for j in range(len(sequence) // 2, -1, -1):\n",
    "        heapify(sequence=sequence, length=len(sequence), current_index=j)\n",
    "\n",
    "    for j in range(len(sequence) - 1, 0, -1):\n",
    "        # Swap elements\n",
    "        sequence[j], sequence[0] = sequence[0], sequence[j]\n",
    "        # Heapify root element\n",
    "        heapify(sequence=sequence, length=j, current_index=0)"
   ],
   "metadata": {
    "collapsed": false,
    "pycharm": {
     "name": "#%%\n"
    }
   }
  },
  {
   "cell_type": "code",
   "execution_count": 11,
   "outputs": [],
   "source": [
    "def measure_results(array_sizes: Iterator[int]) -> List[float]:\n",
    "    actual_results = list()\n",
    "\n",
    "    for size in array_sizes:\n",
    "        # Generate a randomized array\n",
    "        randomized_array = generate_array(length=size)\n",
    "\n",
    "        # Measure sorting execution time\n",
    "        start_time = time.time()\n",
    "        heap_sort(sequence=randomized_array)\n",
    "        end_time = time.time()\n",
    "\n",
    "        # Record the result\n",
    "        actual_results.append(end_time - start_time)\n",
    "\n",
    "    return actual_results\n",
    "\n",
    "\n",
    "def calculate_coefficients(actual_results: np.ndarray, array_sizes: np.ndarray) -> Tuple[float, float, float]:\n",
    "    # Calculate main determinant\n",
    "    n2_log2 = np.sum(np.square(array_sizes) * np.square(np.log2(array_sizes)))\n",
    "    n2_log = np.sum(np.square(array_sizes) * np.log2(array_sizes))\n",
    "    n_log = np.sum(array_sizes * np.log2(array_sizes))\n",
    "    n2 = np.sum(np.square(array_sizes))\n",
    "    n = np.sum(array_sizes)\n",
    "    k = array_sizes.shape[0]\n",
    "\n",
    "    main_det = np.array([\n",
    "        [n2_log2, n2_log, n_log],\n",
    "        [n2_log, n2, n],\n",
    "        [n_log, n, k],\n",
    "    ])\n",
    "    main_det = np.linalg.det(main_det)\n",
    "    assert main_det != 0, \"Main determinant is equal to 0, so Cramer's rule cannot be used here\"\n",
    "\n",
    "    # Calculate \"a\" variable determinant\n",
    "    t_n_log = np.sum(actual_results * array_sizes * np.log2(array_sizes))\n",
    "    t_n = np.sum(actual_results * array_sizes)\n",
    "    t = np.sum(actual_results)\n",
    "\n",
    "    a_det = np.array([\n",
    "        [t_n_log, n2_log, n_log],\n",
    "        [t_n, n2, n],\n",
    "        [t, n, k],\n",
    "    ])\n",
    "    a_det = np.linalg.det(a_det)\n",
    "\n",
    "    # Calculate \"b\" variable determinant\n",
    "    b_det = np.array([\n",
    "        [n2_log2, t_n_log, n_log],\n",
    "        [n2_log, t_n, n],\n",
    "        [n_log, t, k],\n",
    "    ])\n",
    "    b_det = np.linalg.det(b_det)\n",
    "\n",
    "    # Calculate \"c\" variable determinant\n",
    "    c_det = np.array([\n",
    "        [n2_log2, n2_log, t_n_log],\n",
    "        [n2_log, n2, t_n],\n",
    "        [n_log, n, t],\n",
    "    ])\n",
    "    c_det = np.linalg.det(c_det)\n",
    "\n",
    "    return a_det / main_det, b_det / main_det, c_det / main_det"
   ],
   "metadata": {
    "collapsed": false,
    "pycharm": {
     "name": "#%%\n"
    }
   }
  },
  {
   "cell_type": "code",
   "execution_count": 12,
   "outputs": [
    {
     "name": "stdout",
     "output_type": "stream",
     "text": [
      "Running 10 experiments with such sizes: [   100  11200  22300  33400  44500  55600  66700  77800  88900 100000]\n"
     ]
    }
   ],
   "source": [
    "experiments_num = 10\n",
    "sizes = np.linspace(start=100, stop=100_000, num=10, dtype=int)\n",
    "print(f\"Running {experiments_num} experiments with such sizes: {sizes}\")\n",
    "\n",
    "# Collect required information\n",
    "results = list()\n",
    "for i in range(experiments_num):\n",
    "    result = measure_results(array_sizes=sizes)\n",
    "    results.append(result)\n",
    "\n",
    "# Find averages\n",
    "results = np.array(results)\n",
    "results = np.sum(a=results, axis=0) / experiments_num\n",
    "\n",
    "# Process data and output results\n",
    "a, b , c = calculate_coefficients(actual_results=results, array_sizes=sizes)"
   ],
   "metadata": {
    "collapsed": false,
    "pycharm": {
     "name": "#%%\n"
    }
   }
  },
  {
   "cell_type": "code",
   "execution_count": 13,
   "outputs": [
    {
     "data": {
      "text/plain": "<matplotlib.legend.Legend at 0x7f25c7fffd90>"
     },
     "execution_count": 13,
     "metadata": {},
     "output_type": "execute_result"
    },
    {
     "data": {
      "text/plain": "<Figure size 432x288 with 1 Axes>",
      "image/png": "[encoded data removed]"
     },
     "metadata": {
      "needs_background": "light"
     },
     "output_type": "display_data"
    }
   ],
   "source": [
    "# Let's plot data now, to check if approximation is correct\n",
    "approximation_data = a * sizes * np.log2(sizes) + b * sizes + c\n",
    "\n",
    "plt.plot(sizes, results, label=\"Actual\")\n",
    "plt.plot(sizes, approximation_data, label=\"Approximation\")\n",
    "plt.xlabel(xlabel=\"Array Length\")\n",
    "plt.ylabel(ylabel=\"Execution Time\")\n",
    "plt.title(label=\"Heap Sort\")\n",
    "plt.legend()"
   ],
   "metadata": {
    "collapsed": false,
    "pycharm": {
     "name": "#%%\n"
    }
   }
  },
  {
   "cell_type": "code",
   "execution_count": 14,
   "outputs": [
    {
     "name": "stdout",
     "output_type": "stream",
     "text": [
      "Running 10 experiments with such sizes: [200000 350000 500000]\n"
     ]
    },
    {
     "data": {
      "text/plain": "<matplotlib.legend.Legend at 0x7f25c7f601f0>"
     },
     "execution_count": 14,
     "metadata": {},
     "output_type": "execute_result"
    },
    {
     "data": {
      "text/plain": "<Figure size 432x288 with 1 Axes>",
      "image/png": "[encoded data removed]"
     },
     "metadata": {
      "needs_background": "light"
     },
     "output_type": "display_data"
    }
   ],
   "source": [
    "# Now let's try to predict results for new sizes\n",
    "new_sizes = np.linspace(start=200_000, stop=500_000, num=3, dtype=int)\n",
    "print(f\"Running {experiments_num} experiments with such sizes: {new_sizes}\")\n",
    "new_approximation_data = a * new_sizes * np.log2(new_sizes) + b * new_sizes + c\n",
    "\n",
    "# Collect required information\n",
    "new_results = list()\n",
    "for i in range(experiments_num):\n",
    "    result = measure_results(array_sizes=new_sizes)\n",
    "    new_results.append(result)\n",
    "\n",
    "# Find averages\n",
    "new_results = np.array(new_results)\n",
    "new_results = np.sum(a=new_results, axis=0) / experiments_num\n",
    "\n",
    "# Let's plot old and new data now, to check how approximation differs from original time\n",
    "sizes = np.append(sizes, new_sizes)\n",
    "results = np.append(results, new_results)\n",
    "approximation_data = np.append(approximation_data, new_approximation_data)\n",
    "\n",
    "plt.plot(sizes, results, label=\"Actual\")\n",
    "plt.plot(sizes, approximation_data, label=\"Approximation\")\n",
    "plt.xlabel(xlabel=\"Array Length\")\n",
    "plt.ylabel(ylabel=\"Execution Time\")\n",
    "plt.title(label=\"Heap Sort\")\n",
    "plt.legend()"
   ],
   "metadata": {
    "collapsed": false,
    "pycharm": {
     "name": "#%%\n"
    }
   }
  }
 ],
 "metadata": {
  "kernelspec": {
   "display_name": "Python 3",
   "language": "python",
   "name": "python3"
  },
  "language_info": {
   "codemirror_mode": {
    "name": "ipython",
    "version": 2
   },
   "file_extension": ".py",
   "mimetype": "text/x-python",
   "name": "python",
   "nbconvert_exporter": "python",
   "pygments_lexer": "ipython2",
   "version": "2.7.6"
  }
 },
 "nbformat": 4,
 "nbformat_minor": 0
}